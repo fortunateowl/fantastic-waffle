{
 "cells": [
  {
   "cell_type": "markdown",
   "metadata": {},
   "source": [
    "# Monty Hall Simulation\n",
    "\n",
    "## Author - Geoff Ball"
   ]
  },
  {
   "cell_type": "markdown",
   "metadata": {},
   "source": [
    "## Introduction\n",
    "\n",
    "This notebook contains a Monty Hall simulation that examines the case for the two suggested strategies, switching or not switching. Switching is known to be the best strategy, but I approached this project as if the answer were not know and needed to be tested.\n",
    "\n",
    "### The Game\n",
    "\n",
    "The Monty Hall game is a guessing game where a player is presented with three doors and the player must choose which door to open.  Behind one door is a prize, for instance a car, and behind the other doors are something else, in this case a goat.  The goal is to find the car and win.\n",
    "\n",
    "The game progresses as follows.  In the first move of the game the car and goats are placed behind the doors, this can be random, and no information is passed on to the player.  In the second move, the player chooses one of the doors, since the player has no information, this pick is a good as random.  With the third move the game gets interesting.  In the third move, the host opens one of the doors that the contestant did not choose, necessarily one without a prize behind it.  If the player initially chose the door with the prize behind it, the host can open either remaining door, but if the player chose a door without a prize, then the host must open the other door without a prize.\n",
    "\n",
    "Now the player must consider a strategy.  At this point in the game the player is allowed to keep their chosen door, or switch to the remaining unopened door.  What should the player do?  Does one strategy have a better chance of winning than the other?\n",
    "\n",
    "Once the player make the final choice, the chosen door is opened and the game ends with the player winning if the prize is revealed and losing if it is not.\n",
    "\n",
    "### Simulation\n",
    "\n",
    "The following code attempts to demonstrate the best strategy by comparing the results of repeated simulations to determine which has the best chance of winning."
   ]
  },
  {
   "cell_type": "code",
   "execution_count": 1,
   "metadata": {},
   "outputs": [],
   "source": [
    "# import necessary modules\n",
    "import random as rd\n",
    "import numpy as np\n",
    "import pandas as pd\n",
    "import matplotlib.pyplot as plt\n",
    "import seaborn as sbs\n",
    "\n",
    "%matplotlib inline"
   ]
  },
  {
   "cell_type": "markdown",
   "metadata": {},
   "source": [
    "### Set Up\n",
    "\n",
    "The function in the code block below runs one Monty Hall game.  The car is placed randomly behind a door, a contestant randomly chooses a door, Monty Hall reveals a door, and the contestant then either switches or doesn't, finally the contestant is determined to have either won or lost.  The function takes one input, _strat_, which determines the contestants strategy.  A dictionary is returned with keys being the doors, player choices, Monty Hall's choice, and the result."
   ]
  },
  {
   "cell_type": "code",
   "execution_count": 2,
   "metadata": {},
   "outputs": [],
   "source": [
    "# Monty Hall Function, accepts arguments of 'switch' or 'no_switch'\n",
    "def Game(strat):\n",
    "\n",
    "       \n",
    "        #place the car and goats in a dictionary     \n",
    "        random_generator1 = np.random.RandomState() # ensure independent random seed\n",
    "        door = random_generator1.randint(1, 4) #pick car position\n",
    "        \n",
    "        doors = ['door_1', 'door_2', 'door_3'] # List of doors\n",
    "    \n",
    "        # create the dictionary to place the car behind a door\n",
    "        d = {}    \n",
    "        for i in range(1, 4, 1):\n",
    "            if door == i:\n",
    "                d['door_%d' % i] = 'car'\n",
    "            else:\n",
    "                d['door_%d' % i] = 'goat'\n",
    "    \n",
    "      \n",
    "        # Contestant Chooses a Door\n",
    "    \n",
    "        random_generator2 = rd.Random() # ensure independent random seed\n",
    "        pick = random_generator2.choice(doors)\n",
    "        \n",
    "        doors.remove(pick)\n",
    " \n",
    "        # Monty Hall decides which door to open, based on contestant choice and car placement\n",
    "        if d.get(pick) == 'car':\n",
    "            reveal = rd.choice(doors)\n",
    "            \n",
    "        elif d.get(pick) == 'goat':\n",
    "            for x in doors:\n",
    "                reveal = x\n",
    "                if (d.get(x) != 'car'): break\n",
    "\n",
    "        doors.remove(reveal)\n",
    "       \n",
    "        # contestant makes a second pick based on the chosen strategy\n",
    "        if strat == 'no_switch':\n",
    "            second_pick = pick\n",
    "\n",
    "        elif strat == 'switch':\n",
    "            second_pick = doors[0] \n",
    "            \n",
    "            \n",
    "        # Determine if contestant wins      \n",
    "        if d.get(second_pick) == 'car':\n",
    "            result = 'Win!'\n",
    "        else:\n",
    "            result = 'Lose'        \n",
    "        \n",
    "        #Create a dictionary of results\n",
    "        Monty_Hall = {'door_1': d.get('door_1'), 'door_2': d.get('door_2'), 'door_3': \\\n",
    "                      d.get('door_3'), '1st_pick': pick, 'reveal': reveal, \\\n",
    "                      '2nd_pick': second_pick, 'result': result}\n",
    "                \n",
    "        \n",
    "        # Return dictionary of output\n",
    "        return Monty_Hall"
   ]
  },
  {
   "cell_type": "markdown",
   "metadata": {},
   "source": [
    "### One Attempt\n",
    "\n",
    "The following block of code demonstrates the Monty Hall game in the above function.  It calls the function _Game_ with a strategy of 'switch' and prints the result.  Because the placement of the car, the players first choice, and potentially, Monty's reveal, are random, running the code block repeatedly will get different results."
   ]
  },
  {
   "cell_type": "code",
   "execution_count": 3,
   "metadata": {},
   "outputs": [
    {
     "name": "stdout",
     "output_type": "stream",
     "text": [
      "           Value\n",
      "door_1      goat\n",
      "door_2       car\n",
      "door_3      goat\n",
      "1st_pick  door_3\n",
      "reveal    door_1\n",
      "2nd_pick  door_2\n",
      "result      Win!\n"
     ]
    }
   ],
   "source": [
    "x = Game('switch')\n",
    "Result = pd.DataFrame(columns = ['Value'])\n",
    "for i in x:\n",
    "    Result.loc[i] = [x.get(i)]\n",
    "print (Result)"
   ]
  },
  {
   "cell_type": "markdown",
   "metadata": {},
   "source": [
    "### Multiple Attempts\n",
    "\n",
    "The function below creates a loop that plays the Monty Hall game a set number of times and returns a data frame with the results of each game.  It takes the arguments _games_, where it is told how many times to play the game, and _strategy_ which it passes through to the _Game_ function."
   ]
  },
  {
   "cell_type": "code",
   "execution_count": 4,
   "metadata": {},
   "outputs": [],
   "source": [
    "# Create a loop that play the game multiple times.\n",
    "def Tries(games, strategy):\n",
    "    loop = 0\n",
    "    #Create a DataFrame to store the results\n",
    "    Monty_Hall = pd.DataFrame(index = range(0, games - 1), \\\n",
    "                    columns =['door_1', 'door_2', 'door_3', '1st_pick', 'reveal', '2nd_pick', 'result'])\n",
    "    \n",
    "    while loop < games: #Start the loop\n",
    "        # Get the dictionary of results from a single game\n",
    "        temp = Game(strategy)\n",
    "        # Write the results of the current game to the DataFrame\n",
    "        for i in temp:\n",
    "            Monty_Hall.loc[loop, i] = temp.get(i)\n",
    "        \n",
    "        loop += 1\n",
    "    return Monty_Hall # Return the DataFrame of results\n",
    "        "
   ]
  },
  {
   "cell_type": "markdown",
   "metadata": {},
   "source": [
    "Now we call the above function as see what the results of repeated games are.  We play one hundred games with a strategy of 'switch' and then display the results in terms of number of games won and number of games lost.  Again, running the code block repeatedly will yield different results each time."
   ]
  },
  {
   "cell_type": "code",
   "execution_count": 5,
   "metadata": {},
   "outputs": [
    {
     "name": "stdout",
     "output_type": "stream",
     "text": [
      "Win!    75\n",
      "Lose    25\n",
      "Name: result, dtype: int64\n"
     ]
    }
   ],
   "source": [
    "x = Tries(100, 'switch')\n",
    "print (x['result'].value_counts())"
   ]
  },
  {
   "cell_type": "markdown",
   "metadata": {},
   "source": [
    "### Repeated Simulations\n",
    "\n",
    "The central limit theorem says, in brief, that the distribution of a large number sample means will be normal and that the mean of the distribution will be the true mean.  The function below takes advantage of that fact.\n",
    "\n",
    "The function _Distribution_ creates a loop that calls the _Tries_ function multiple time. It takes three arguments, _iterations_, how many times to call the _Tries_ function, _games_, how many times to play the game each iteration, and _strategy_, whether to switch or not.  The larger the number of iterations, the more closer our sample mean will be to the true mean.\n",
    "\n",
    "The function returns a data frame of normalized value counts of wins and losses for each iteration."
   ]
  },
  {
   "cell_type": "code",
   "execution_count": 6,
   "metadata": {},
   "outputs": [],
   "source": [
    "def Distribution(iterations, games, strategy):\n",
    "\n",
    "    Probability = pd.DataFrame(index = range(0, iterations - 1), columns=['Win%', 'Loss%'], dtype = 'float')\n",
    "\n",
    "    attempt = 0\n",
    "\n",
    "    while attempt < iterations:\n",
    "        Monty_Hall = Tries(games, strategy)\n",
    "        prob = Monty_Hall['result'].value_counts(normalize = True)\n",
    "        prob = prob.to_dict()\n",
    "        \n",
    "        # Write to DataFrame\n",
    "        Probability.loc[attempt, 'Win%'] = prob.get('Win!')\n",
    "        Probability.loc[attempt, 'Loss%'] = prob.get('Lose')\n",
    "        \n",
    "        attempt += 1\n",
    "    \n",
    "    return Probability\n",
    "    "
   ]
  },
  {
   "cell_type": "markdown",
   "metadata": {},
   "source": [
    "### Putting it all Together\n",
    "\n",
    "Now we put it all together. Below, we choose the number of time to play the game each iteration, the number of iterations, and the strategy.  We can run the code multiple times in different with different choices and see how the results change.\n",
    "\n",
    "We begin by trying the strategy 'no_switch'."
   ]
  },
  {
   "cell_type": "markdown",
   "metadata": {},
   "source": [
    "### The Case for Not Switching\n",
    "\n",
    "The case for not switching often goes like this:  The second choice is between two doors, so it is a 50-50 proposition.  There is no advantage to switching or not switching so you might as well stick to your first guess.\n",
    "\n",
    "The following will test that theory, if true, we would expect to see the player win fifty percent of the time."
   ]
  },
  {
   "cell_type": "code",
   "execution_count": 7,
   "metadata": {},
   "outputs": [],
   "source": [
    "############\n",
    "## Inputs ##\n",
    "############\n",
    "\n",
    "# How many games to play the game each simulation. For example '10' will play the game 10 times\n",
    "games = 100\n",
    "\n",
    "# How many times to run the simulation.  For example '10' will run the simulation 10 times \n",
    "# WARNING: the game will be played a total of games*iterations times so values of 10 and 10 \n",
    "# mean a total of 100 games, larger numbers can become time consuming very quickly\n",
    "iterations = 1000\n",
    "\n",
    "# What strategy to use, can only take on the values 'switch' and 'no_switch'\n",
    "strategy = 'no_switch'\n",
    "\n",
    "# Run the entire code\n",
    "Probability_ns = Distribution(iterations, games, strategy)"
   ]
  },
  {
   "cell_type": "code",
   "execution_count": 8,
   "metadata": {},
   "outputs": [
    {
     "data": {
      "text/plain": [
       "Text(0, 0.5, 'Count')"
      ]
     },
     "execution_count": 8,
     "metadata": {},
     "output_type": "execute_result"
    },
    {
     "data": {
      "image/png": "[encoded data removed]",
      "text/plain": [
       "<Figure size 720x720 with 1 Axes>"
      ]
     },
     "metadata": {
      "needs_background": "light"
     },
     "output_type": "display_data"
    }
   ],
   "source": [
    "# A histogram of the output\n",
    "ax = plt.figure(figsize=(10, 10)).gca() # define axis\n",
    "sbs.histplot(Probability_ns, x = 'Win%', binwidth = 0.01, kde = True, ax = ax)\n",
    "ax.set_title('No Switch Strategy: Histogram and Density plot of Probability of Winning', \\\n",
    "            fontsize = 'xx-large')# Give the plot a main title\n",
    "ax.set_xlabel('Win%', fontsize = 'xx-large')# Set text for the x axis\n",
    "ax.set_ylabel('Count', fontsize = 'xx-large')# Set text for y axis"
   ]
  },
  {
   "cell_type": "code",
   "execution_count": 9,
   "metadata": {
    "scrolled": true
   },
   "outputs": [
    {
     "data": {
      "text/html": [
       "<div>\n",
       "<style scoped>\n",
       "    .dataframe tbody tr th:only-of-type {\n",
       "        vertical-align: middle;\n",
       "    }\n",
       "\n",
       "    .dataframe tbody tr th {\n",
       "        vertical-align: top;\n",
       "    }\n",
       "\n",
       "    .dataframe thead th {\n",
       "        text-align: right;\n",
       "    }\n",
       "</style>\n",
       "<table border=\"1\" class=\"dataframe\">\n",
       "  <thead>\n",
       "    <tr style=\"text-align: right;\">\n",
       "      <th></th>\n",
       "      <th>Win%</th>\n",
       "    </tr>\n",
       "  </thead>\n",
       "  <tbody>\n",
       "    <tr>\n",
       "      <th>count</th>\n",
       "      <td>1000.000000</td>\n",
       "    </tr>\n",
       "    <tr>\n",
       "      <th>mean</th>\n",
       "      <td>0.332990</td>\n",
       "    </tr>\n",
       "    <tr>\n",
       "      <th>varience</th>\n",
       "      <td>0.002092</td>\n",
       "    </tr>\n",
       "    <tr>\n",
       "      <th>min</th>\n",
       "      <td>0.180000</td>\n",
       "    </tr>\n",
       "    <tr>\n",
       "      <th>max</th>\n",
       "      <td>0.510000</td>\n",
       "    </tr>\n",
       "  </tbody>\n",
       "</table>\n",
       "</div>"
      ],
      "text/plain": [
       "                 Win%\n",
       "count     1000.000000\n",
       "mean         0.332990\n",
       "varience     0.002092\n",
       "min          0.180000\n",
       "max          0.510000"
      ]
     },
     "execution_count": 9,
     "metadata": {},
     "output_type": "execute_result"
    }
   ],
   "source": [
    "x = Probability_ns.describe()\n",
    "x = x.drop(columns = ['Loss%'], index = ['std', '25%', '50%', '75%'])\n",
    "x.loc['varience'] = Probability_ns.loc[:, 'Win%'].var()\n",
    "x = x.reindex(['count', 'mean', 'varience', 'min', 'max'])\n",
    "x"
   ]
  },
  {
   "cell_type": "markdown",
   "metadata": {},
   "source": [
    "#### Not Switching Analysis\n",
    "\n",
    "The results do not look good for not switching.  After playing 100 games 1,000 times, the histogram centered near 33%.  While you will be looking at a unique histogram based on a new simulation, the one I am looking at right now has a mean of about 33 wins per 100 games, a variance of about 0.002, a minimum number of wins of 18 and a maximum number of wins of 51. After 1,000 attempts, the maximum number of wins in each trial of 100 is barely the 50 that would support the not switching strategy.  While your numbers will be slightly different, winning more than 50% of the time using this strategy is extremely rare."
   ]
  },
  {
   "cell_type": "markdown",
   "metadata": {},
   "source": [
    "### Switch Strategy\n",
    "\n",
    "We now turn our attention to the switch strategy.  The case for switching goes something like this:  On your initial guess you have a one in three chance of picking the correct door, so there is a two in three chance that the winning door is one you have not chosen.  After a door is open, the probability that your first choice was wrong, has not changed therefor there is a one in three chance that the car is behind the door you chose, but a two in three chance that the car is behind the remaining door.\n",
    "\n",
    "The following simulation will test the switch strategy."
   ]
  },
  {
   "cell_type": "code",
   "execution_count": 10,
   "metadata": {},
   "outputs": [],
   "source": [
    "############\n",
    "## Inputs ##\n",
    "############\n",
    "\n",
    "# How many games to play the game each simulation. For example '10' will play the game 10 times\n",
    "games = 100\n",
    "\n",
    "# How many times to run the simulation.  For example '10' will run the simulation 10 times \n",
    "# Warning, the game will be played a total of games*iterations times so values of 10 and 10 \n",
    "#mean a total of 100 games, this can become time consuming very quickly\n",
    "iterations = 1000\n",
    "\n",
    "# What strategy to use, can only take on the values 'switch' and 'no_switch'\n",
    "strategy = 'switch'\n",
    "\n",
    "# Run the entire code\n",
    "Probability_s = Distribution(iterations, games, strategy)"
   ]
  },
  {
   "cell_type": "code",
   "execution_count": 11,
   "metadata": {},
   "outputs": [
    {
     "data": {
      "text/plain": [
       "Text(0, 0.5, 'Count')"
      ]
     },
     "execution_count": 11,
     "metadata": {},
     "output_type": "execute_result"
    },
    {
     "data": {
      "image/png": "[encoded data removed]",
      "text/plain": [
       "<Figure size 720x720 with 1 Axes>"
      ]
     },
     "metadata": {
      "needs_background": "light"
     },
     "output_type": "display_data"
    }
   ],
   "source": [
    "# A histogram of the output\n",
    "ax = plt.figure(figsize=(10, 10)).gca() # define axis\n",
    "sbs.histplot(Probability_s, x = 'Win%', binwidth = 0.01, kde = True, ax = ax)\n",
    "ax.set_title('Switch Strategy: Histogram and Density plot of Probability of Winning', \\\n",
    "            fontsize = 'xx-large')# Give the plot a main title\n",
    "ax.set_xlabel('Win%', fontsize = 'xx-large')# Set text for the x axis\n",
    "ax.set_ylabel('Count', fontsize = 'xx-large')# Set text for y axis"
   ]
  },
  {
   "cell_type": "code",
   "execution_count": 12,
   "metadata": {},
   "outputs": [
    {
     "data": {
      "text/html": [
       "<div>\n",
       "<style scoped>\n",
       "    .dataframe tbody tr th:only-of-type {\n",
       "        vertical-align: middle;\n",
       "    }\n",
       "\n",
       "    .dataframe tbody tr th {\n",
       "        vertical-align: top;\n",
       "    }\n",
       "\n",
       "    .dataframe thead th {\n",
       "        text-align: right;\n",
       "    }\n",
       "</style>\n",
       "<table border=\"1\" class=\"dataframe\">\n",
       "  <thead>\n",
       "    <tr style=\"text-align: right;\">\n",
       "      <th></th>\n",
       "      <th>Win%</th>\n",
       "    </tr>\n",
       "  </thead>\n",
       "  <tbody>\n",
       "    <tr>\n",
       "      <th>count</th>\n",
       "      <td>1000.000000</td>\n",
       "    </tr>\n",
       "    <tr>\n",
       "      <th>mean</th>\n",
       "      <td>0.668030</td>\n",
       "    </tr>\n",
       "    <tr>\n",
       "      <th>varience</th>\n",
       "      <td>0.002161</td>\n",
       "    </tr>\n",
       "    <tr>\n",
       "      <th>min</th>\n",
       "      <td>0.540000</td>\n",
       "    </tr>\n",
       "    <tr>\n",
       "      <th>max</th>\n",
       "      <td>0.800000</td>\n",
       "    </tr>\n",
       "  </tbody>\n",
       "</table>\n",
       "</div>"
      ],
      "text/plain": [
       "                 Win%\n",
       "count     1000.000000\n",
       "mean         0.668030\n",
       "varience     0.002161\n",
       "min          0.540000\n",
       "max          0.800000"
      ]
     },
     "execution_count": 12,
     "metadata": {},
     "output_type": "execute_result"
    }
   ],
   "source": [
    "x = Probability_s.describe()\n",
    "x = x.drop(columns = ['Loss%'], index = ['std', '25%', '50%', '75%'])\n",
    "x.loc['varience'] = Probability_s.loc[:, 'Win%'].var()\n",
    "x = x.reindex(['count', 'mean', 'varience', 'min', 'max'])\n",
    "x"
   ]
  },
  {
   "cell_type": "markdown",
   "metadata": {},
   "source": [
    "# Switching Analysis\n",
    "\n",
    "Te results for the switch strategy are much more promising.  Again, keep in mind that the results you are seeing will differ slightly from mine, due to the random nature of the simulations. In the results that I am looking at, across 1,000 simulations of 100 games, the mean probability of winning is about 67% while the variance is 0.002, the minimum number of wins is 54 and the maximum is 80.  It is likely that the results you are seeing are similar."
   ]
  },
  {
   "cell_type": "markdown",
   "metadata": {},
   "source": [
    "### Comparison and Recommendation \n",
    "\n",
    "Between the strategies 'switch' and 'no_switch', there appears to be a clear winner.  According to the simulations, you will win twice as often if you switch compared to how often you will win if you do not.  In addition, the case for switching is supported by the statistics, verses the case for not switching which is based on a misunderstanding of conditional probabilities.\n",
    "\n",
    "Ultimately, the recommendation must be to use the strategy 'switch'."
   ]
  },
  {
   "cell_type": "markdown",
   "metadata": {},
   "source": [
    "### References\n",
    "\n",
    "I was getting a weird result where the random placement of the car and the random first pick were the same about two thirds of the time.  While I cannot say for sure why this would be happening, it seems that using a default random seed means that the two random numbers are not independent. Implementing code from the link fixed the problem.\n",
    "\n",
    "https://stackoverflow.com/questions/24204582/generate-multiple-independent-random-streams-in-python"
   ]
  }
 ],
 "metadata": {
  "kernelspec": {
   "display_name": "Python 3 (ipykernel)",
   "language": "python",
   "name": "python3"
  },
  "language_info": {
   "codemirror_mode": {
    "name": "ipython",
    "version": 3
   },
   "file_extension": ".py",
   "mimetype": "text/x-python",
   "name": "python",
   "nbconvert_exporter": "python",
   "pygments_lexer": "ipython3",
   "version": "3.8.12"
  }
 },
 "nbformat": 4,
 "nbformat_minor": 4
}
